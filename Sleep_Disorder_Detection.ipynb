{
 "cells": [
  {
   "cell_type": "code",
   "execution_count": 6,
   "id": "ca59e42d-20ed-4fa1-9eb3-ad95ad753e9b",
   "metadata": {},
   "outputs": [],
   "source": [
    "import os"
   ]
  },
  {
   "cell_type": "code",
   "execution_count": 7,
   "id": "56ec363e-1887-4475-adb9-7b70b2e3f812",
   "metadata": {},
   "outputs": [
    {
     "name": "stdout",
     "output_type": "stream",
     "text": [
      "C:\\Users\\lasts\\Kaggle\n"
     ]
    }
   ],
   "source": [
    "print(os.getcwd())"
   ]
  },
  {
   "cell_type": "code",
   "execution_count": 8,
   "id": "ad52bb1c-052f-4e72-931f-6ab7d43fa34d",
   "metadata": {},
   "outputs": [
    {
     "name": "stdout",
     "output_type": "stream",
     "text": [
      "./sample_data\\Sleep_health_and_lifestyle_dataset.csv\n"
     ]
    }
   ],
   "source": [
    "for dirname, _, filenames in os.walk('./sample_data'):\n",
    "    for filename in filenames:\n",
    "        file_path = os.path.join(dirname, filename)\n",
    "        print(file_path)"
   ]
  },
  {
   "cell_type": "code",
   "execution_count": 9,
   "id": "224f74b1-9f8f-4421-8c7e-ae29af187a8e",
   "metadata": {},
   "outputs": [],
   "source": [
    "import pandas as pd"
   ]
  },
  {
   "cell_type": "code",
   "execution_count": 10,
   "id": "9ac0c845-68e2-442e-b0a5-54a661b383a7",
   "metadata": {},
   "outputs": [
    {
     "data": {
      "text/html": [
       "<div>\n",
       "<style scoped>\n",
       "    .dataframe tbody tr th:only-of-type {\n",
       "        vertical-align: middle;\n",
       "    }\n",
       "\n",
       "    .dataframe tbody tr th {\n",
       "        vertical-align: top;\n",
       "    }\n",
       "\n",
       "    .dataframe thead th {\n",
       "        text-align: right;\n",
       "    }\n",
       "</style>\n",
       "<table border=\"1\" class=\"dataframe\">\n",
       "  <thead>\n",
       "    <tr style=\"text-align: right;\">\n",
       "      <th></th>\n",
       "      <th>Person ID</th>\n",
       "      <th>Gender</th>\n",
       "      <th>Age</th>\n",
       "      <th>Occupation</th>\n",
       "      <th>Sleep Duration</th>\n",
       "      <th>Quality of Sleep</th>\n",
       "      <th>Physical Activity Level</th>\n",
       "      <th>Stress Level</th>\n",
       "      <th>BMI Category</th>\n",
       "      <th>Blood Pressure</th>\n",
       "      <th>Heart Rate</th>\n",
       "      <th>Daily Steps</th>\n",
       "      <th>Sleep Disorder</th>\n",
       "    </tr>\n",
       "  </thead>\n",
       "  <tbody>\n",
       "    <tr>\n",
       "      <th>0</th>\n",
       "      <td>1</td>\n",
       "      <td>Male</td>\n",
       "      <td>27</td>\n",
       "      <td>Software Engineer</td>\n",
       "      <td>6.1</td>\n",
       "      <td>6</td>\n",
       "      <td>42</td>\n",
       "      <td>6</td>\n",
       "      <td>Overweight</td>\n",
       "      <td>126/83</td>\n",
       "      <td>77</td>\n",
       "      <td>4200</td>\n",
       "      <td>NaN</td>\n",
       "    </tr>\n",
       "    <tr>\n",
       "      <th>1</th>\n",
       "      <td>2</td>\n",
       "      <td>Male</td>\n",
       "      <td>28</td>\n",
       "      <td>Doctor</td>\n",
       "      <td>6.2</td>\n",
       "      <td>6</td>\n",
       "      <td>60</td>\n",
       "      <td>8</td>\n",
       "      <td>Normal</td>\n",
       "      <td>125/80</td>\n",
       "      <td>75</td>\n",
       "      <td>10000</td>\n",
       "      <td>NaN</td>\n",
       "    </tr>\n",
       "    <tr>\n",
       "      <th>2</th>\n",
       "      <td>3</td>\n",
       "      <td>Male</td>\n",
       "      <td>28</td>\n",
       "      <td>Doctor</td>\n",
       "      <td>6.2</td>\n",
       "      <td>6</td>\n",
       "      <td>60</td>\n",
       "      <td>8</td>\n",
       "      <td>Normal</td>\n",
       "      <td>125/80</td>\n",
       "      <td>75</td>\n",
       "      <td>10000</td>\n",
       "      <td>NaN</td>\n",
       "    </tr>\n",
       "    <tr>\n",
       "      <th>3</th>\n",
       "      <td>4</td>\n",
       "      <td>Male</td>\n",
       "      <td>28</td>\n",
       "      <td>Sales Representative</td>\n",
       "      <td>5.9</td>\n",
       "      <td>4</td>\n",
       "      <td>30</td>\n",
       "      <td>8</td>\n",
       "      <td>Obese</td>\n",
       "      <td>140/90</td>\n",
       "      <td>85</td>\n",
       "      <td>3000</td>\n",
       "      <td>Sleep Apnea</td>\n",
       "    </tr>\n",
       "    <tr>\n",
       "      <th>4</th>\n",
       "      <td>5</td>\n",
       "      <td>Male</td>\n",
       "      <td>28</td>\n",
       "      <td>Sales Representative</td>\n",
       "      <td>5.9</td>\n",
       "      <td>4</td>\n",
       "      <td>30</td>\n",
       "      <td>8</td>\n",
       "      <td>Obese</td>\n",
       "      <td>140/90</td>\n",
       "      <td>85</td>\n",
       "      <td>3000</td>\n",
       "      <td>Sleep Apnea</td>\n",
       "    </tr>\n",
       "  </tbody>\n",
       "</table>\n",
       "</div>"
      ],
      "text/plain": [
       "   Person ID Gender  Age            Occupation  Sleep Duration  \\\n",
       "0          1   Male   27     Software Engineer             6.1   \n",
       "1          2   Male   28                Doctor             6.2   \n",
       "2          3   Male   28                Doctor             6.2   \n",
       "3          4   Male   28  Sales Representative             5.9   \n",
       "4          5   Male   28  Sales Representative             5.9   \n",
       "\n",
       "   Quality of Sleep  Physical Activity Level  Stress Level BMI Category  \\\n",
       "0                 6                       42             6   Overweight   \n",
       "1                 6                       60             8       Normal   \n",
       "2                 6                       60             8       Normal   \n",
       "3                 4                       30             8        Obese   \n",
       "4                 4                       30             8        Obese   \n",
       "\n",
       "  Blood Pressure  Heart Rate  Daily Steps Sleep Disorder  \n",
       "0         126/83          77         4200            NaN  \n",
       "1         125/80          75        10000            NaN  \n",
       "2         125/80          75        10000            NaN  \n",
       "3         140/90          85         3000    Sleep Apnea  \n",
       "4         140/90          85         3000    Sleep Apnea  "
      ]
     },
     "execution_count": 10,
     "metadata": {},
     "output_type": "execute_result"
    }
   ],
   "source": [
    "data = pd.read_csv(file_path)\n",
    "\n",
    "data.head()"
   ]
  },
  {
   "cell_type": "markdown",
   "id": "4a1d0312-28b2-4763-9dd5-f80d7b622199",
   "metadata": {},
   "source": [
    "## Groupby 메서드 활용"
   ]
  },
  {
   "cell_type": "markdown",
   "id": "4e513962-e01a-4d03-93e4-bcf1bef2adb4",
   "metadata": {},
   "source": [
    "BMI Category를 기준으로 그룹화\n",
    " - mean   : 평균\n",
    " - std    : 표준편차\n",
    " - medain : 중앙값"
   ]
  },
  {
   "cell_type": "code",
   "execution_count": 11,
   "id": "28d930ac-57e0-4684-a08e-6b4594c592d2",
   "metadata": {},
   "outputs": [],
   "source": [
    "grouped_data = data.groupby('BMI Category').agg({\n",
    "    'Sleep Duration': ['mean', 'std'],\n",
    "    'Daily Steps': ['mean', 'median'],\n",
    "    'Stress Level': ['mean', 'max']\n",
    "})"
   ]
  },
  {
   "cell_type": "code",
   "execution_count": 12,
   "id": "be086fc4-331f-4e18-af3e-7d2887ab1727",
   "metadata": {},
   "outputs": [
    {
     "name": "stdout",
     "output_type": "stream",
     "text": [
      "             Sleep Duration            Daily Steps         Stress Level    \n",
      "                       mean       std         mean  median         mean max\n",
      "BMI Category                                                               \n",
      "Normal             7.387963  0.718165  6875.462963  7300.0     5.134259   8\n",
      "Obese              6.960000  0.883428  3350.000000  3400.0     5.700000   8\n",
      "Overweight         6.770270  0.757768  6965.540541  6000.0     5.729730   8\n"
     ]
    }
   ],
   "source": [
    "print(grouped_data)"
   ]
  },
  {
   "cell_type": "markdown",
   "id": "bdd3f83c-9274-41b9-a20c-d11b4a3c3b98",
   "metadata": {},
   "source": [
    "## Matplotlib과 seaborn를 활요하여 그래프 그리기"
   ]
  },
  {
   "cell_type": "markdown",
   "id": "accab850-acf9-40d7-9eca-047337e6e5ae",
   "metadata": {},
   "source": [
    "## 2-2-1. BMI별 수면 시간 그래프"
   ]
  },
  {
   "cell_type": "code",
   "execution_count": 13,
   "id": "33f62339-e59c-4855-b813-d3325d523df7",
   "metadata": {},
   "outputs": [],
   "source": [
    "import matplotlib.pyplot as plt\n",
    "import seaborn as sns"
   ]
  },
  {
   "cell_type": "code",
   "execution_count": 14,
   "id": "848c8898-c8c1-4b07-af6a-a804d5ba0cbc",
   "metadata": {},
   "outputs": [
    {
     "data": {
      "image/png": "[encoded data removed]",
      "text/plain": [
       "<Figure size 640x480 with 1 Axes>"
      ]
     },
     "metadata": {},
     "output_type": "display_data"
    }
   ],
   "source": [
    "sns.boxplot(x='BMI Category', y='Sleep Duration', data=data, palette='Set2')\n",
    "plt.title('Sleep Duration Distribution by BMI')\n",
    "plt.xlabel('BMI Category')\n",
    "plt.ylabel('Sleep Duration (hours)')\n",
    "plt.show()"
   ]
  },
  {
   "cell_type": "markdown",
   "id": "e2131e3d-9a84-496f-886c-f535118881b4",
   "metadata": {},
   "source": [
    "## 2-2-2. 수면 시간과 스트레스 수준의 관계"
   ]
  },
  {
   "cell_type": "markdown",
   "id": "14b6695b-b851-453a-adf8-0462ad0a9dab",
   "metadata": {},
   "source": [
    "  inf Future warning problem 발생"
   ]
  },
  {
   "cell_type": "code",
   "execution_count": 15,
   "id": "ab8533b2-df88-4812-b6ad-6880c5a3b80e",
   "metadata": {},
   "outputs": [
    {
     "name": "stderr",
     "output_type": "stream",
     "text": [
      "D:\\anaconda3\\Lib\\site-packages\\seaborn\\_oldcore.py:1119: FutureWarning: use_inf_as_na option is deprecated and will be removed in a future version. Convert inf values to NaN before operating instead.\n",
      "  with pd.option_context('mode.use_inf_as_na', True):\n",
      "D:\\anaconda3\\Lib\\site-packages\\seaborn\\_oldcore.py:1119: FutureWarning: use_inf_as_na option is deprecated and will be removed in a future version. Convert inf values to NaN before operating instead.\n",
      "  with pd.option_context('mode.use_inf_as_na', True):\n"
     ]
    },
    {
     "data": {
      "image/png": "[encoded data removed]",
      "text/plain": [
       "<Figure size 640x480 with 1 Axes>"
      ]
     },
     "metadata": {},
     "output_type": "display_data"
    }
   ],
   "source": [
    "line_data = data.groupby('Stress Level')['Sleep Duration'].mean().reset_index()\n",
    "\n",
    "sns.lineplot(\n",
    "    x='Stress Level',\n",
    "    y='Sleep Duration',\n",
    "    data=line_data,\n",
    "    marker='o'\n",
    ")\n",
    "\n",
    "plt.title('Relationship of Stress Level & Sleep Duration')\n",
    "plt.xlabel('Stress Level')\n",
    "plt.ylabel('Sleep Duration (hours)')\n",
    "plt.grid(True)\n",
    "plt.show()"
   ]
  },
  {
   "cell_type": "markdown",
   "id": "f0d86f52-73bb-497f-83f0-a22f590ab675",
   "metadata": {},
   "source": [
    "## 데이터 전처리"
   ]
  },
  {
   "cell_type": "code",
   "execution_count": 16,
   "id": "10bddfdc-c56b-41fd-bcc4-1b027d134dfa",
   "metadata": {},
   "outputs": [],
   "source": [
    "from sklearn.model_selection import train_test_split\n",
    "from sklearn.ensemble import RandomForestClassifier\n",
    "from sklearn.metrics import classification_report, accuracy_score\n",
    "from sklearn.preprocessing import LabelEncoder, StandardScaler"
   ]
  },
  {
   "cell_type": "markdown",
   "id": "b68a5208-6c2f-4325-af11-37842f4cdf98",
   "metadata": {},
   "source": [
    "## 범주형 데이터 인코딩\n",
    "LabelEncoder를 사용해 범주형 변수를 숫자형으로 변환"
   ]
  },
  {
   "cell_type": "code",
   "execution_count": 17,
   "id": "5d0c9193-a720-464d-812d-be3fffb38749",
   "metadata": {},
   "outputs": [],
   "source": [
    "data_encoded = data.copy()\n",
    "categorical_columns = ['Gender', 'BMI Category', 'Sleep Disorder', 'Occupation']\n",
    "encoder = LabelEncoder()\n",
    "for col in categorical_columns:\n",
    "    data_encoded[col] = encoder.fit_transform(data_encoded[col])"
   ]
  },
  {
   "cell_type": "markdown",
   "id": "640421b3-8366-4f22-981d-6e9ae2177c99",
   "metadata": {},
   "source": [
    "## 특성과 목표 변수 설정\n",
    "각각의 특징들(모델 입력값)을 이용하여 모델이 예측해야 하는 값(Sleep Disorder) 설정"
   ]
  },
  {
   "cell_type": "code",
   "execution_count": 18,
   "id": "a11a3865-9e7a-4245-b33b-eab214761352",
   "metadata": {},
   "outputs": [],
   "source": [
    "features = ['Age', 'Sleep Duration', 'Quality of Sleep', 'Physical Activity Level', \n",
    "            'Stress Level', 'Daily Steps', 'Heart Rate', 'Gender', 'BMI Category']\n",
    "target = 'Sleep Disorder'\n",
    "X = data_encoded[features]\n",
    "y = data_encoded[target]"
   ]
  },
  {
   "cell_type": "markdown",
   "id": "02538e8d-c284-4abb-a357-133d3a1c1a09",
   "metadata": {},
   "source": [
    "## 데이터 정규화\n",
    "StandardScaler를 사용해 모든 특성을 정규화\n",
    "-> 모델의 성능을 높이기 위함"
   ]
  },
  {
   "cell_type": "code",
   "execution_count": 19,
   "id": "218c2fbe-4392-4789-8289-a353a147f7e0",
   "metadata": {},
   "outputs": [],
   "source": [
    "scaler = StandardScaler()\n",
    "X = scaler.fit_transform(X)"
   ]
  },
  {
   "cell_type": "markdown",
   "id": "04280026-7036-416e-b0ba-b687884e89a1",
   "metadata": {},
   "source": [
    "## 데이터 분리\n",
    "데이터를 학습용(80%)과 테스트용(20%)으로 분리"
   ]
  },
  {
   "cell_type": "code",
   "execution_count": 20,
   "id": "ea6d196e-b5d2-4626-8538-b77c100a14d7",
   "metadata": {},
   "outputs": [],
   "source": [
    "X_train, X_test, y_train, y_test = train_test_split(X, y, test_size=0.2, random_state=42)"
   ]
  },
  {
   "cell_type": "markdown",
   "id": "74ac2e8d-c5ef-42ec-8a7e-e4de872e0738",
   "metadata": {},
   "source": [
    "## 모델 학습\n",
    "RandomForestClassifier를 사용하여 모델 생성 후 학습용 데이터로 학습"
   ]
  },
  {
   "cell_type": "code",
   "execution_count": 22,
   "id": "4891616c-4c53-48c1-8d4c-36c22d6208af",
   "metadata": {},
   "outputs": [
    {
     "data": {
      "text/html": [
       "<style>#sk-container-id-2 {color: black;background-color: white;}#sk-container-id-2 pre{padding: 0;}#sk-container-id-2 div.sk-toggleable {background-color: white;}#sk-container-id-2 label.sk-toggleable__label {cursor: pointer;display: block;width: 100%;margin-bottom: 0;padding: 0.3em;box-sizing: border-box;text-align: center;}#sk-container-id-2 label.sk-toggleable__label-arrow:before {content: \"▸\";float: left;margin-right: 0.25em;color: #696969;}#sk-container-id-2 label.sk-toggleable__label-arrow:hover:before {color: black;}#sk-container-id-2 div.sk-estimator:hover label.sk-toggleable__label-arrow:before {color: black;}#sk-container-id-2 div.sk-toggleable__content {max-height: 0;max-width: 0;overflow: hidden;text-align: left;background-color: #f0f8ff;}#sk-container-id-2 div.sk-toggleable__content pre {margin: 0.2em;color: black;border-radius: 0.25em;background-color: #f0f8ff;}#sk-container-id-2 input.sk-toggleable__control:checked~div.sk-toggleable__content {max-height: 200px;max-width: 100%;overflow: auto;}#sk-container-id-2 input.sk-toggleable__control:checked~label.sk-toggleable__label-arrow:before {content: \"▾\";}#sk-container-id-2 div.sk-estimator input.sk-toggleable__control:checked~label.sk-toggleable__label {background-color: #d4ebff;}#sk-container-id-2 div.sk-label input.sk-toggleable__control:checked~label.sk-toggleable__label {background-color: #d4ebff;}#sk-container-id-2 input.sk-hidden--visually {border: 0;clip: rect(1px 1px 1px 1px);clip: rect(1px, 1px, 1px, 1px);height: 1px;margin: -1px;overflow: hidden;padding: 0;position: absolute;width: 1px;}#sk-container-id-2 div.sk-estimator {font-family: monospace;background-color: #f0f8ff;border: 1px dotted black;border-radius: 0.25em;box-sizing: border-box;margin-bottom: 0.5em;}#sk-container-id-2 div.sk-estimator:hover {background-color: #d4ebff;}#sk-container-id-2 div.sk-parallel-item::after {content: \"\";width: 100%;border-bottom: 1px solid gray;flex-grow: 1;}#sk-container-id-2 div.sk-label:hover label.sk-toggleable__label {background-color: #d4ebff;}#sk-container-id-2 div.sk-serial::before {content: \"\";position: absolute;border-left: 1px solid gray;box-sizing: border-box;top: 0;bottom: 0;left: 50%;z-index: 0;}#sk-container-id-2 div.sk-serial {display: flex;flex-direction: column;align-items: center;background-color: white;padding-right: 0.2em;padding-left: 0.2em;position: relative;}#sk-container-id-2 div.sk-item {position: relative;z-index: 1;}#sk-container-id-2 div.sk-parallel {display: flex;align-items: stretch;justify-content: center;background-color: white;position: relative;}#sk-container-id-2 div.sk-item::before, #sk-container-id-2 div.sk-parallel-item::before {content: \"\";position: absolute;border-left: 1px solid gray;box-sizing: border-box;top: 0;bottom: 0;left: 50%;z-index: -1;}#sk-container-id-2 div.sk-parallel-item {display: flex;flex-direction: column;z-index: 1;position: relative;background-color: white;}#sk-container-id-2 div.sk-parallel-item:first-child::after {align-self: flex-end;width: 50%;}#sk-container-id-2 div.sk-parallel-item:last-child::after {align-self: flex-start;width: 50%;}#sk-container-id-2 div.sk-parallel-item:only-child::after {width: 0;}#sk-container-id-2 div.sk-dashed-wrapped {border: 1px dashed gray;margin: 0 0.4em 0.5em 0.4em;box-sizing: border-box;padding-bottom: 0.4em;background-color: white;}#sk-container-id-2 div.sk-label label {font-family: monospace;font-weight: bold;display: inline-block;line-height: 1.2em;}#sk-container-id-2 div.sk-label-container {text-align: center;}#sk-container-id-2 div.sk-container {/* jupyter's `normalize.less` sets `[hidden] { display: none; }` but bootstrap.min.css set `[hidden] { display: none !important; }` so we also need the `!important` here to be able to override the default hidden behavior on the sphinx rendered scikit-learn.org. See: https://github.com/scikit-learn/scikit-learn/issues/21755 */display: inline-block !important;position: relative;}#sk-container-id-2 div.sk-text-repr-fallback {display: none;}</style><div id=\"sk-container-id-2\" class=\"sk-top-container\"><div class=\"sk-text-repr-fallback\"><pre>RandomForestClassifier(random_state=42)</pre><b>In a Jupyter environment, please rerun this cell to show the HTML representation or trust the notebook. <br />On GitHub, the HTML representation is unable to render, please try loading this page with nbviewer.org.</b></div><div class=\"sk-container\" hidden><div class=\"sk-item\"><div class=\"sk-estimator sk-toggleable\"><input class=\"sk-toggleable__control sk-hidden--visually\" id=\"sk-estimator-id-2\" type=\"checkbox\" checked><label for=\"sk-estimator-id-2\" class=\"sk-toggleable__label sk-toggleable__label-arrow\">RandomForestClassifier</label><div class=\"sk-toggleable__content\"><pre>RandomForestClassifier(random_state=42)</pre></div></div></div></div></div>"
      ],
      "text/plain": [
       "RandomForestClassifier(random_state=42)"
      ]
     },
     "execution_count": 22,
     "metadata": {},
     "output_type": "execute_result"
    }
   ],
   "source": [
    "model = RandomForestClassifier(random_state=42)\n",
    "model.fit(X_train, y_train)"
   ]
  },
  {
   "cell_type": "markdown",
   "id": "b38007ef-087b-423f-9e7a-78f9e33dd7d4",
   "metadata": {},
   "source": [
    "## 예측\n",
    "테스트 데이터를 사용하여 예측값 생성"
   ]
  },
  {
   "cell_type": "code",
   "execution_count": 23,
   "id": "77c8552c-c283-4143-8dec-20e1670e3103",
   "metadata": {},
   "outputs": [],
   "source": [
    "y_pred = model.predict(X_test)"
   ]
  },
  {
   "cell_type": "markdown",
   "id": "3da90f97-2909-4b39-a977-add1e519aa6e",
   "metadata": {},
   "source": [
    "## 모델 평가\n",
    "예측 샘플 비율로 정확성 출력"
   ]
  },
  {
   "cell_type": "code",
   "execution_count": 26,
   "id": "e3de81d3-a283-467d-815e-8e25508fde73",
   "metadata": {},
   "outputs": [
    {
     "data": {
      "text/plain": [
       "0.88"
      ]
     },
     "execution_count": 26,
     "metadata": {},
     "output_type": "execute_result"
    }
   ],
   "source": [
    "accuracy = accuracy_score(y_test, y_pred)\n",
    "\n",
    "accuracy"
   ]
  },
  {
   "cell_type": "markdown",
   "id": "956f8743-a6af-46fe-825e-583837d51fd7",
   "metadata": {},
   "source": [
    "## 모델의 정확도\n",
    " Result : 88%"
   ]
  },
  {
   "cell_type": "code",
   "execution_count": null,
   "id": "408b6431-de84-4fba-bd14-a36c980d2d0a",
   "metadata": {},
   "outputs": [],
   "source": []
  }
 ],
 "metadata": {
  "kernelspec": {
   "display_name": "Python 3 (ipykernel)",
   "language": "python",
   "name": "python3"
  },
  "language_info": {
   "codemirror_mode": {
    "name": "ipython",
    "version": 3
   },
   "file_extension": ".py",
   "mimetype": "text/x-python",
   "name": "python",
   "nbconvert_exporter": "python",
   "pygments_lexer": "ipython3",
   "version": "3.11.7"
  }
 },
 "nbformat": 4,
 "nbformat_minor": 5
}
