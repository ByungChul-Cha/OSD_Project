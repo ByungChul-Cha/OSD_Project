{
 "cells": [
  {
   "cell_type": "code",
   "execution_count": 43,
   "id": "ca59e42d-20ed-4fa1-9eb3-ad95ad753e9b",
   "metadata": {},
   "outputs": [],
   "source": [
    "import os"
   ]
  },
  {
   "cell_type": "code",
   "execution_count": 44,
   "id": "56ec363e-1887-4475-adb9-7b70b2e3f812",
   "metadata": {},
   "outputs": [
    {
     "name": "stdout",
     "output_type": "stream",
     "text": [
      "C:\\Users\\lasts\\Kaggle\n"
     ]
    }
   ],
   "source": [
    "print(os.getcwd())"
   ]
  },
  {
   "cell_type": "code",
   "execution_count": 45,
   "id": "ad52bb1c-052f-4e72-931f-6ab7d43fa34d",
   "metadata": {},
   "outputs": [
    {
     "name": "stdout",
     "output_type": "stream",
     "text": [
      "./sample_data\\Sleep_health_and_lifestyle_dataset.csv\n"
     ]
    }
   ],
   "source": [
    "for dirname, _, filenames in os.walk('./sample_data'):\n",
    "    for filename in filenames:\n",
    "        file_path = os.path.join(dirname, filename)\n",
    "        print(file_path)"
   ]
  },
  {
   "cell_type": "code",
   "execution_count": 46,
   "id": "224f74b1-9f8f-4421-8c7e-ae29af187a8e",
   "metadata": {},
   "outputs": [],
   "source": [
    "import pandas as pd"
   ]
  },
  {
   "cell_type": "code",
   "execution_count": 47,
   "id": "9ac0c845-68e2-442e-b0a5-54a661b383a7",
   "metadata": {},
   "outputs": [
    {
     "data": {
      "text/html": [
       "<div>\n",
       "<style scoped>\n",
       "    .dataframe tbody tr th:only-of-type {\n",
       "        vertical-align: middle;\n",
       "    }\n",
       "\n",
       "    .dataframe tbody tr th {\n",
       "        vertical-align: top;\n",
       "    }\n",
       "\n",
       "    .dataframe thead th {\n",
       "        text-align: right;\n",
       "    }\n",
       "</style>\n",
       "<table border=\"1\" class=\"dataframe\">\n",
       "  <thead>\n",
       "    <tr style=\"text-align: right;\">\n",
       "      <th></th>\n",
       "      <th>Person ID</th>\n",
       "      <th>Gender</th>\n",
       "      <th>Age</th>\n",
       "      <th>Occupation</th>\n",
       "      <th>Sleep Duration</th>\n",
       "      <th>Quality of Sleep</th>\n",
       "      <th>Physical Activity Level</th>\n",
       "      <th>Stress Level</th>\n",
       "      <th>BMI Category</th>\n",
       "      <th>Blood Pressure</th>\n",
       "      <th>Heart Rate</th>\n",
       "      <th>Daily Steps</th>\n",
       "      <th>Sleep Disorder</th>\n",
       "    </tr>\n",
       "  </thead>\n",
       "  <tbody>\n",
       "    <tr>\n",
       "      <th>0</th>\n",
       "      <td>1</td>\n",
       "      <td>Male</td>\n",
       "      <td>27</td>\n",
       "      <td>Software Engineer</td>\n",
       "      <td>6.1</td>\n",
       "      <td>6</td>\n",
       "      <td>42</td>\n",
       "      <td>6</td>\n",
       "      <td>Overweight</td>\n",
       "      <td>126/83</td>\n",
       "      <td>77</td>\n",
       "      <td>4200</td>\n",
       "      <td>NaN</td>\n",
       "    </tr>\n",
       "    <tr>\n",
       "      <th>1</th>\n",
       "      <td>2</td>\n",
       "      <td>Male</td>\n",
       "      <td>28</td>\n",
       "      <td>Doctor</td>\n",
       "      <td>6.2</td>\n",
       "      <td>6</td>\n",
       "      <td>60</td>\n",
       "      <td>8</td>\n",
       "      <td>Normal</td>\n",
       "      <td>125/80</td>\n",
       "      <td>75</td>\n",
       "      <td>10000</td>\n",
       "      <td>NaN</td>\n",
       "    </tr>\n",
       "    <tr>\n",
       "      <th>2</th>\n",
       "      <td>3</td>\n",
       "      <td>Male</td>\n",
       "      <td>28</td>\n",
       "      <td>Doctor</td>\n",
       "      <td>6.2</td>\n",
       "      <td>6</td>\n",
       "      <td>60</td>\n",
       "      <td>8</td>\n",
       "      <td>Normal</td>\n",
       "      <td>125/80</td>\n",
       "      <td>75</td>\n",
       "      <td>10000</td>\n",
       "      <td>NaN</td>\n",
       "    </tr>\n",
       "    <tr>\n",
       "      <th>3</th>\n",
       "      <td>4</td>\n",
       "      <td>Male</td>\n",
       "      <td>28</td>\n",
       "      <td>Sales Representative</td>\n",
       "      <td>5.9</td>\n",
       "      <td>4</td>\n",
       "      <td>30</td>\n",
       "      <td>8</td>\n",
       "      <td>Obese</td>\n",
       "      <td>140/90</td>\n",
       "      <td>85</td>\n",
       "      <td>3000</td>\n",
       "      <td>Sleep Apnea</td>\n",
       "    </tr>\n",
       "    <tr>\n",
       "      <th>4</th>\n",
       "      <td>5</td>\n",
       "      <td>Male</td>\n",
       "      <td>28</td>\n",
       "      <td>Sales Representative</td>\n",
       "      <td>5.9</td>\n",
       "      <td>4</td>\n",
       "      <td>30</td>\n",
       "      <td>8</td>\n",
       "      <td>Obese</td>\n",
       "      <td>140/90</td>\n",
       "      <td>85</td>\n",
       "      <td>3000</td>\n",
       "      <td>Sleep Apnea</td>\n",
       "    </tr>\n",
       "  </tbody>\n",
       "</table>\n",
       "</div>"
      ],
      "text/plain": [
       "   Person ID Gender  Age            Occupation  Sleep Duration  \\\n",
       "0          1   Male   27     Software Engineer             6.1   \n",
       "1          2   Male   28                Doctor             6.2   \n",
       "2          3   Male   28                Doctor             6.2   \n",
       "3          4   Male   28  Sales Representative             5.9   \n",
       "4          5   Male   28  Sales Representative             5.9   \n",
       "\n",
       "   Quality of Sleep  Physical Activity Level  Stress Level BMI Category  \\\n",
       "0                 6                       42             6   Overweight   \n",
       "1                 6                       60             8       Normal   \n",
       "2                 6                       60             8       Normal   \n",
       "3                 4                       30             8        Obese   \n",
       "4                 4                       30             8        Obese   \n",
       "\n",
       "  Blood Pressure  Heart Rate  Daily Steps Sleep Disorder  \n",
       "0         126/83          77         4200            NaN  \n",
       "1         125/80          75        10000            NaN  \n",
       "2         125/80          75        10000            NaN  \n",
       "3         140/90          85         3000    Sleep Apnea  \n",
       "4         140/90          85         3000    Sleep Apnea  "
      ]
     },
     "execution_count": 47,
     "metadata": {},
     "output_type": "execute_result"
    }
   ],
   "source": [
    "data = pd.read_csv(file_path)\n",
    "\n",
    "data.head()"
   ]
  },
  {
   "cell_type": "markdown",
   "id": "4a1d0312-28b2-4763-9dd5-f80d7b622199",
   "metadata": {},
   "source": [
    "## Groupby 메서드 활용"
   ]
  },
  {
   "cell_type": "markdown",
   "id": "4e513962-e01a-4d03-93e4-bcf1bef2adb4",
   "metadata": {},
   "source": [
    "BMI Category를 기준으로 그룹화\n",
    " - mean   : 평균\n",
    " - std    : 표준편차\n",
    " - medain : 중앙값"
   ]
  },
  {
   "cell_type": "code",
   "execution_count": 48,
   "id": "28d930ac-57e0-4684-a08e-6b4594c592d2",
   "metadata": {},
   "outputs": [],
   "source": [
    "grouped_data = data.groupby('BMI Category').agg({\n",
    "    'Sleep Duration': ['mean', 'std'],\n",
    "    'Daily Steps': ['mean', 'median'],\n",
    "    'Stress Level': ['mean', 'max']\n",
    "})"
   ]
  },
  {
   "cell_type": "code",
   "execution_count": 49,
   "id": "be086fc4-331f-4e18-af3e-7d2887ab1727",
   "metadata": {},
   "outputs": [
    {
     "name": "stdout",
     "output_type": "stream",
     "text": [
      "             Sleep Duration            Daily Steps         Stress Level    \n",
      "                       mean       std         mean  median         mean max\n",
      "BMI Category                                                               \n",
      "Normal             7.387963  0.718165  6875.462963  7300.0     5.134259   8\n",
      "Obese              6.960000  0.883428  3350.000000  3400.0     5.700000   8\n",
      "Overweight         6.770270  0.757768  6965.540541  6000.0     5.729730   8\n"
     ]
    }
   ],
   "source": [
    "print(grouped_data)"
   ]
  },
  {
   "cell_type": "markdown",
   "id": "bdd3f83c-9274-41b9-a20c-d11b4a3c3b98",
   "metadata": {},
   "source": [
    "## Matplotlib과 seaborn를 활요하여 그래프 그리기"
   ]
  },
  {
   "cell_type": "markdown",
   "id": "accab850-acf9-40d7-9eca-047337e6e5ae",
   "metadata": {},
   "source": [
    "## 2-2-1. BMI별 수면 시간 그래프"
   ]
  },
  {
   "cell_type": "code",
   "execution_count": 50,
   "id": "33f62339-e59c-4855-b813-d3325d523df7",
   "metadata": {},
   "outputs": [],
   "source": [
    "import matplotlib.pyplot as plt\n",
    "import seaborn as sns"
   ]
  },
  {
   "cell_type": "code",
   "execution_count": 51,
   "id": "848c8898-c8c1-4b07-af6a-a804d5ba0cbc",
   "metadata": {},
   "outputs": [
    {
     "data": {
      "image/png": "[encoded data removed]",
      "text/plain": [
       "<Figure size 640x480 with 1 Axes>"
      ]
     },
     "metadata": {},
     "output_type": "display_data"
    }
   ],
   "source": [
    "sns.boxplot(x='BMI Category', y='Sleep Duration', data=data, palette='Set2')\n",
    "plt.title('Sleep Duration Distribution by BMI')\n",
    "plt.xlabel('BMI Category')\n",
    "plt.ylabel('Sleep Duration (hours)')\n",
    "plt.show()"
   ]
  },
  {
   "cell_type": "markdown",
   "id": "e2131e3d-9a84-496f-886c-f535118881b4",
   "metadata": {},
   "source": [
    "## 2-2-2. 수면 시간과 스트레스 수준의 관계"
   ]
  },
  {
   "cell_type": "markdown",
   "id": "14b6695b-b851-453a-adf8-0462ad0a9dab",
   "metadata": {},
   "source": [
    "  inf Future warning problem 발생"
   ]
  },
  {
   "cell_type": "code",
   "execution_count": 66,
   "id": "ab8533b2-df88-4812-b6ad-6880c5a3b80e",
   "metadata": {},
   "outputs": [
    {
     "name": "stderr",
     "output_type": "stream",
     "text": [
      "D:\\anaconda3\\Lib\\site-packages\\seaborn\\_oldcore.py:1119: FutureWarning: use_inf_as_na option is deprecated and will be removed in a future version. Convert inf values to NaN before operating instead.\n",
      "  with pd.option_context('mode.use_inf_as_na', True):\n",
      "D:\\anaconda3\\Lib\\site-packages\\seaborn\\_oldcore.py:1119: FutureWarning: use_inf_as_na option is deprecated and will be removed in a future version. Convert inf values to NaN before operating instead.\n",
      "  with pd.option_context('mode.use_inf_as_na', True):\n"
     ]
    },
    {
     "data": {
      "image/png": "[encoded data removed]",
      "text/plain": [
       "<Figure size 640x480 with 1 Axes>"
      ]
     },
     "metadata": {},
     "output_type": "display_data"
    }
   ],
   "source": [
    "line_data = data.groupby('Stress Level')['Sleep Duration'].mean().reset_index()\n",
    "\n",
    "sns.lineplot(\n",
    "    x='Stress Level',\n",
    "    y='Sleep Duration',\n",
    "    data=line_data,\n",
    "    marker='o'\n",
    ")\n",
    "\n",
    "plt.title('Relationship of Stress Level & Sleep Duration')\n",
    "plt.xlabel('Stress Level')\n",
    "plt.ylabel('Sleep Duration (hours)')\n",
    "plt.grid(True)\n",
    "plt.show()"
   ]
  },
  {
   "cell_type": "code",
   "execution_count": 68,
   "id": "a11a3865-9e7a-4245-b33b-eab214761352",
   "metadata": {},
   "outputs": [
    {
     "data": {
      "text/plain": [
       "0.8387096774193549"
      ]
     },
     "execution_count": 68,
     "metadata": {},
     "output_type": "execute_result"
    }
   ],
   "source": [
    "from sklearn.model_selection import train_test_split\n",
    "from sklearn.ensemble import RandomForestClassifier\n",
    "from sklearn.metrics import classification_report, accuracy_score\n",
    "from sklearn.preprocessing import LabelEncoder, StandardScaler\n",
    "\n",
    "# Preprocessing\n",
    "# Encoding categorical variables\n",
    "data_encoded = data.copy()\n",
    "categorical_columns = ['Gender', 'BMI Category', 'Sleep Disorder', 'Occupation']\n",
    "encoder = LabelEncoder()\n",
    "for col in categorical_columns:\n",
    "    data_encoded[col] = encoder.fit_transform(data_encoded[col])\n",
    "\n",
    "# Selecting features and target variable\n",
    "features = ['Age', 'Sleep Duration', 'Quality of Sleep', 'Physical Activity Level', \n",
    "            'Stress Level', 'Daily Steps', 'Heart Rate', 'Gender', 'BMI Category']\n",
    "target = 'Sleep Disorder'\n",
    "X = data_encoded[features]\n",
    "y = data_encoded[target]\n",
    "\n",
    "# Scaling numerical features\n",
    "scaler = StandardScaler()\n",
    "X = scaler.fit_transform(X)\n",
    "\n",
    "# Splitting the dataset\n",
    "X_train, X_test, y_train, y_test = train_test_split(X, y, test_size=0.2, random_state=42)\n",
    "\n",
    "# Model training\n",
    "model = RandomForestClassifier(random_state=42)\n",
    "model.fit(X_train, y_train)\n",
    "\n",
    "# Predictions\n",
    "y_pred = model.predict(X_test)\n",
    "\n",
    "# Evaluation\n",
    "accuracy = accuracy_score(y_test, y_pred)\n",
    "report = classification_report(y_test, y_pred)\n",
    "\n",
    "accuracy"
   ]
  },
  {
   "cell_type": "code",
   "execution_count": null,
   "id": "e9f6694b-5797-4655-b59e-af9f9455eb4a",
   "metadata": {},
   "outputs": [],
   "source": []
  }
 ],
 "metadata": {
  "kernelspec": {
   "display_name": "Python 3 (ipykernel)",
   "language": "python",
   "name": "python3"
  },
  "language_info": {
   "codemirror_mode": {
    "name": "ipython",
    "version": 3
   },
   "file_extension": ".py",
   "mimetype": "text/x-python",
   "name": "python",
   "nbconvert_exporter": "python",
   "pygments_lexer": "ipython3",
   "version": "3.11.7"
  }
 },
 "nbformat": 4,
 "nbformat_minor": 5
}
